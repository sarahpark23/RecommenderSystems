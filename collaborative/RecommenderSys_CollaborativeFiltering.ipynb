{
 "cells": [
  {
   "cell_type": "markdown",
   "metadata": {},
   "source": [
    "# Collaborative filtering\n",
    "\n",
    "\n",
    "With _collaborative filtering_, we will not use any external features, but use the pairwise relationship between users and item directly.  \n",
    "\n",
    "A great advantage: Making recommendations based on seemingly unrelated topics.  For example, we can keep track of someone's beer and movie ratings, and predict beer tastes based on someone's movie preferences (assuming there's a correlation between the two).\n",
    "\n",
    "We have two kinds of collaborative filtering:\n",
    "\n",
    "- `Item-based collaborative filtering`\n",
    "- `Model-based collaborative filtering`\n",
    "\n",
    "<hr>\n",
    "\n",
    "## Item-based collaborative filtering\n",
    "\n",
    "For _item-based collaborative filtering_, recommendations for each user are based on similar items that the user has already rated highly. \n",
    "\n",
    "\"because you liked this, we think you'd also like this..\". "
   ]
  },
  {
   "cell_type": "markdown",
   "metadata": {},
   "source": [
    "- https://docs.google.com/presentation/d/1JeoyFe_Za7e_9SQAMqYI7uZ6F3_OIm2XMQePq12WmcU/pub?start=false&loop=false&delayms=3000"
   ]
  },
  {
   "cell_type": "markdown",
   "metadata": {},
   "source": [
    "#### Example: Who To Follow — Recommending Brands\n",
    "\n",
    "In this example, we consider a simple dataset: users following brands. We only know of a user follows a brand or not, but not how much he or she likes this brand.  Given the brands the user is following, we would like to recommend similar brands that s/he might be interested in.  "
   ]
  },
  {
   "cell_type": "code",
   "execution_count": 211,
   "metadata": {
    "collapsed": false
   },
   "outputs": [],
   "source": [
    "import numpy as np\n",
    "import pandas as pd\n",
    "import seaborn as sb\n",
    "from matplotlib import pyplot as plt\n",
    "%matplotlib inline"
   ]
  },
  {
   "cell_type": "code",
   "execution_count": 121,
   "metadata": {
    "collapsed": false
   },
   "outputs": [
    {
     "name": "stdout",
     "output_type": "stream",
     "text": [
      "We have 23804 pairs of ratings between 3759 users and 198 brands.\n"
     ]
    },
    {
     "data": {
      "text/html": [
       "<div>\n",
       "<table border=\"1\" class=\"dataframe\">\n",
       "  <thead>\n",
       "    <tr style=\"text-align: right;\">\n",
       "      <th></th>\n",
       "      <th>id</th>\n",
       "      <th>brand</th>\n",
       "    </tr>\n",
       "  </thead>\n",
       "  <tbody>\n",
       "    <tr>\n",
       "      <th>0</th>\n",
       "      <td>80002</td>\n",
       "      <td>Target</td>\n",
       "    </tr>\n",
       "    <tr>\n",
       "      <th>1</th>\n",
       "      <td>80002</td>\n",
       "      <td>Home Depot</td>\n",
       "    </tr>\n",
       "    <tr>\n",
       "      <th>2</th>\n",
       "      <td>80010</td>\n",
       "      <td>Levi's</td>\n",
       "    </tr>\n",
       "    <tr>\n",
       "      <th>3</th>\n",
       "      <td>80010</td>\n",
       "      <td>Puma</td>\n",
       "    </tr>\n",
       "    <tr>\n",
       "      <th>4</th>\n",
       "      <td>80010</td>\n",
       "      <td>Cuisinart</td>\n",
       "    </tr>\n",
       "  </tbody>\n",
       "</table>\n",
       "</div>"
      ],
      "text/plain": [
       "      id       brand\n",
       "0  80002      Target\n",
       "1  80002  Home Depot\n",
       "2  80010      Levi's\n",
       "3  80010        Puma\n",
       "4  80010   Cuisinart"
      ]
     },
     "execution_count": 121,
     "metadata": {},
     "output_type": "execute_result"
    }
   ],
   "source": [
    "url = 'https://raw.githubusercontent.com/AnyingLi/RecommenderSys_WiDS/master/user-brands.csv'\n",
    "data = pd.read_csv(url)\n",
    "print \"We have %d pairs of ratings between %s users and %s brands.\" % \\\n",
    "    (len(data), data.id.nunique(), data.brand.nunique())\n",
    "data.head()"
   ]
  },
  {
   "cell_type": "markdown",
   "metadata": {},
   "source": [
    "### Step 1: Create a User-by-brand matrix\n",
    "\n",
    "Note that our data above is in condensed format. We could make it into a sparse matrix, which might be easier to work with.  You could do this with `pd.pivot_table`:\n",
    "\n",
    "    M = pd.pivot_table(data, index='id', columns='brand', aggfunc='size', fill_value=0)\n",
    "\n",
    "We use a `groupby` statement, which gives us a multi-index series, and then we make an `unstack` call to transform it into a dataframe again.  "
   ]
  },
  {
   "cell_type": "code",
   "execution_count": 30,
   "metadata": {
    "collapsed": false
   },
   "outputs": [
    {
     "data": {
      "text/html": [
       "<div>\n",
       "<table border=\"1\" class=\"dataframe\">\n",
       "  <thead>\n",
       "    <tr style=\"text-align: right;\">\n",
       "      <th>brand</th>\n",
       "      <th>6pm.com</th>\n",
       "      <th>Abercrombie &amp; Fitch</th>\n",
       "      <th>Adidas</th>\n",
       "      <th>Aeropostale</th>\n",
       "      <th>Aldo</th>\n",
       "      <th>All Saints</th>\n",
       "      <th>Amazon.com</th>\n",
       "      <th>American Apparel</th>\n",
       "      <th>American Eagle</th>\n",
       "      <th>Ann Taylor</th>\n",
       "      <th>...</th>\n",
       "      <th>Walgreens</th>\n",
       "      <th>Walk-Over</th>\n",
       "      <th>Wet Seal</th>\n",
       "      <th>Windsor</th>\n",
       "      <th>YSL</th>\n",
       "      <th>Yves Saint Laurent</th>\n",
       "      <th>ZOO</th>\n",
       "      <th>Zara</th>\n",
       "      <th>Zipcar</th>\n",
       "      <th>vineyard vines</th>\n",
       "    </tr>\n",
       "    <tr>\n",
       "      <th>id</th>\n",
       "      <th></th>\n",
       "      <th></th>\n",
       "      <th></th>\n",
       "      <th></th>\n",
       "      <th></th>\n",
       "      <th></th>\n",
       "      <th></th>\n",
       "      <th></th>\n",
       "      <th></th>\n",
       "      <th></th>\n",
       "      <th></th>\n",
       "      <th></th>\n",
       "      <th></th>\n",
       "      <th></th>\n",
       "      <th></th>\n",
       "      <th></th>\n",
       "      <th></th>\n",
       "      <th></th>\n",
       "      <th></th>\n",
       "      <th></th>\n",
       "      <th></th>\n",
       "    </tr>\n",
       "  </thead>\n",
       "  <tbody>\n",
       "    <tr>\n",
       "      <th>80002</th>\n",
       "      <td>0.0</td>\n",
       "      <td>0.0</td>\n",
       "      <td>0.0</td>\n",
       "      <td>0.0</td>\n",
       "      <td>0.0</td>\n",
       "      <td>0.0</td>\n",
       "      <td>0.0</td>\n",
       "      <td>0.0</td>\n",
       "      <td>0.0</td>\n",
       "      <td>0.0</td>\n",
       "      <td>...</td>\n",
       "      <td>0.0</td>\n",
       "      <td>0.0</td>\n",
       "      <td>0.0</td>\n",
       "      <td>0.0</td>\n",
       "      <td>0.0</td>\n",
       "      <td>0.0</td>\n",
       "      <td>0.0</td>\n",
       "      <td>0.0</td>\n",
       "      <td>0.0</td>\n",
       "      <td>0.0</td>\n",
       "    </tr>\n",
       "    <tr>\n",
       "      <th>80010</th>\n",
       "      <td>0.0</td>\n",
       "      <td>0.0</td>\n",
       "      <td>0.0</td>\n",
       "      <td>0.0</td>\n",
       "      <td>0.0</td>\n",
       "      <td>0.0</td>\n",
       "      <td>0.0</td>\n",
       "      <td>0.0</td>\n",
       "      <td>0.0</td>\n",
       "      <td>0.0</td>\n",
       "      <td>...</td>\n",
       "      <td>0.0</td>\n",
       "      <td>0.0</td>\n",
       "      <td>0.0</td>\n",
       "      <td>0.0</td>\n",
       "      <td>0.0</td>\n",
       "      <td>0.0</td>\n",
       "      <td>0.0</td>\n",
       "      <td>0.0</td>\n",
       "      <td>0.0</td>\n",
       "      <td>0.0</td>\n",
       "    </tr>\n",
       "    <tr>\n",
       "      <th>80011</th>\n",
       "      <td>0.0</td>\n",
       "      <td>0.0</td>\n",
       "      <td>0.0</td>\n",
       "      <td>0.0</td>\n",
       "      <td>0.0</td>\n",
       "      <td>0.0</td>\n",
       "      <td>0.0</td>\n",
       "      <td>0.0</td>\n",
       "      <td>0.0</td>\n",
       "      <td>0.0</td>\n",
       "      <td>...</td>\n",
       "      <td>0.0</td>\n",
       "      <td>0.0</td>\n",
       "      <td>0.0</td>\n",
       "      <td>0.0</td>\n",
       "      <td>0.0</td>\n",
       "      <td>0.0</td>\n",
       "      <td>0.0</td>\n",
       "      <td>0.0</td>\n",
       "      <td>0.0</td>\n",
       "      <td>0.0</td>\n",
       "    </tr>\n",
       "  </tbody>\n",
       "</table>\n",
       "<p>3 rows × 198 columns</p>\n",
       "</div>"
      ],
      "text/plain": [
       "brand  6pm.com  Abercrombie & Fitch  Adidas  Aeropostale  Aldo  All Saints  \\\n",
       "id                                                                           \n",
       "80002      0.0                  0.0     0.0          0.0   0.0         0.0   \n",
       "80010      0.0                  0.0     0.0          0.0   0.0         0.0   \n",
       "80011      0.0                  0.0     0.0          0.0   0.0         0.0   \n",
       "\n",
       "brand  Amazon.com  American Apparel  American Eagle  Ann Taylor  \\\n",
       "id                                                                \n",
       "80002         0.0               0.0             0.0         0.0   \n",
       "80010         0.0               0.0             0.0         0.0   \n",
       "80011         0.0               0.0             0.0         0.0   \n",
       "\n",
       "brand       ...        Walgreens  Walk-Over  Wet Seal  Windsor  YSL  \\\n",
       "id          ...                                                       \n",
       "80002       ...              0.0        0.0       0.0      0.0  0.0   \n",
       "80010       ...              0.0        0.0       0.0      0.0  0.0   \n",
       "80011       ...              0.0        0.0       0.0      0.0  0.0   \n",
       "\n",
       "brand  Yves Saint Laurent  ZOO  Zara  Zipcar  vineyard vines  \n",
       "id                                                            \n",
       "80002                 0.0  0.0   0.0     0.0             0.0  \n",
       "80010                 0.0  0.0   0.0     0.0             0.0  \n",
       "80011                 0.0  0.0   0.0     0.0             0.0  \n",
       "\n",
       "[3 rows x 198 columns]"
      ]
     },
     "execution_count": 30,
     "metadata": {},
     "output_type": "execute_result"
    }
   ],
   "source": [
    "M = data.groupby(['id', 'brand']).size().unstack().fillna(0)\n",
    "n_users, n_brands = M.shape\n",
    "brands = M.columns\n",
    "M.head(3)"
   ]
  },
  {
   "cell_type": "markdown",
   "metadata": {},
   "source": [
    "### Step 2: Create a brand-by-brand matrix, with the similarity distances between two brands in each cell\n",
    "\n",
    "- Obviously, you'd have $Distance_{ii} = 0$ for each brand $i$, and $Distance_{ij} = Distance_{ji}$ for each pair of brands.\n",
    "- You can create a 2-dimenional `np.array` for this, or a nested dictionary `Distance = {i: {j1: distance1, j2: distance2, etc}}`, or anything you like.\n",
    "\n",
    "Since we will use a neighborhood method, we need a definition of _distance_.  We'll use the _Jaccard distance_ for this. (Also see an earlier notebook on SVD which covered the Jaccard distance.)"
   ]
  },
  {
   "cell_type": "markdown",
   "metadata": {},
   "source": [
    "#### Jaccard distance\n",
    "\n",
    "The [_Jaccard index_](https://en.wikipedia.org/wiki/Jaccard_index) is a similarity metric between two sets.  It measures how many elements two sets have in common, as a fraction of the total number of distinct elements in both sets.  \n",
    "\n",
    "$$\\text{Jaccard index} = \\frac{ |A \\cap B | }{ |A \\cup B| }$$\n",
    "\n",
    "We could make a Jaccard matrix $J$, with pairwise similarities $J_{ij}$ as entries.\n",
    "- `J[i, j]` = Jaccard similarity between doc _i_ and _j_ (between 0 and 1)\n",
    "- `J[i, i]` = 1, obviously, and\n",
    "- `J[i, j]` = `J[i, j]`, i.e., the matrix is symmetric.\n",
    "\n",
    "We could also define the [_Jaccard distance_](https://en.wikipedia.org/wiki/Jaccard_distance) , which has $D_{ii} = 0$ for identical sets, and bigger values as the sets have less words in common.  We define: $D = 1 - J,$ which has values between 0 and 1.\n",
    "\n",
    "Common applications of the Jaccard index include text clustering, but we can use it for brand clustering as well, counting the number of followers they have in common."
   ]
  },
  {
   "cell_type": "code",
   "execution_count": 5,
   "metadata": {
    "collapsed": false
   },
   "outputs": [],
   "source": [
    "def jaccard_distance(M):\n",
    "    I = M.T.dot(M)  # number of users in common \n",
    "    n_users_per_brand = np.diag(I)\n",
    "    N = n_users_per_brand.reshape(n_brands, 1) * np.ones(n_brands)\n",
    "    U = N + N.T - I  # total unique followers = n_users_i + n_users_j - users in common\n",
    "    J = I / U.astype(float)  # similarity matrix\n",
    "    D = 1 - J  # distance\n",
    "    return D"
   ]
  },
  {
   "cell_type": "code",
   "execution_count": 6,
   "metadata": {
    "collapsed": false
   },
   "outputs": [
    {
     "data": {
      "text/html": [
       "<div>\n",
       "<table border=\"1\" class=\"dataframe\">\n",
       "  <thead>\n",
       "    <tr style=\"text-align: right;\">\n",
       "      <th>brand</th>\n",
       "      <th>6pm.com</th>\n",
       "      <th>Abercrombie &amp; Fitch</th>\n",
       "      <th>Adidas</th>\n",
       "      <th>Aeropostale</th>\n",
       "      <th>Aldo</th>\n",
       "      <th>All Saints</th>\n",
       "      <th>Amazon.com</th>\n",
       "      <th>American Apparel</th>\n",
       "      <th>American Eagle</th>\n",
       "      <th>Ann Taylor</th>\n",
       "      <th>...</th>\n",
       "      <th>Walgreens</th>\n",
       "      <th>Walk-Over</th>\n",
       "      <th>Wet Seal</th>\n",
       "      <th>Windsor</th>\n",
       "      <th>YSL</th>\n",
       "      <th>Yves Saint Laurent</th>\n",
       "      <th>ZOO</th>\n",
       "      <th>Zara</th>\n",
       "      <th>Zipcar</th>\n",
       "      <th>vineyard vines</th>\n",
       "    </tr>\n",
       "    <tr>\n",
       "      <th>brand</th>\n",
       "      <th></th>\n",
       "      <th></th>\n",
       "      <th></th>\n",
       "      <th></th>\n",
       "      <th></th>\n",
       "      <th></th>\n",
       "      <th></th>\n",
       "      <th></th>\n",
       "      <th></th>\n",
       "      <th></th>\n",
       "      <th></th>\n",
       "      <th></th>\n",
       "      <th></th>\n",
       "      <th></th>\n",
       "      <th></th>\n",
       "      <th></th>\n",
       "      <th></th>\n",
       "      <th></th>\n",
       "      <th></th>\n",
       "      <th></th>\n",
       "      <th></th>\n",
       "    </tr>\n",
       "  </thead>\n",
       "  <tbody>\n",
       "    <tr>\n",
       "      <th>6pm.com</th>\n",
       "      <td>0.000000</td>\n",
       "      <td>0.996255</td>\n",
       "      <td>0.996154</td>\n",
       "      <td>0.996241</td>\n",
       "      <td>1.0</td>\n",
       "      <td>1.0</td>\n",
       "      <td>1.0</td>\n",
       "      <td>0.996183</td>\n",
       "      <td>0.996441</td>\n",
       "      <td>0.992481</td>\n",
       "      <td>...</td>\n",
       "      <td>1.0</td>\n",
       "      <td>1.0</td>\n",
       "      <td>1.0000</td>\n",
       "      <td>1.0</td>\n",
       "      <td>1.0</td>\n",
       "      <td>1.0</td>\n",
       "      <td>1.0</td>\n",
       "      <td>1.000000</td>\n",
       "      <td>1.0</td>\n",
       "      <td>1.0</td>\n",
       "    </tr>\n",
       "    <tr>\n",
       "      <th>Abercrombie &amp; Fitch</th>\n",
       "      <td>0.996255</td>\n",
       "      <td>0.000000</td>\n",
       "      <td>1.000000</td>\n",
       "      <td>0.928571</td>\n",
       "      <td>1.0</td>\n",
       "      <td>1.0</td>\n",
       "      <td>1.0</td>\n",
       "      <td>1.000000</td>\n",
       "      <td>0.888889</td>\n",
       "      <td>1.000000</td>\n",
       "      <td>...</td>\n",
       "      <td>1.0</td>\n",
       "      <td>1.0</td>\n",
       "      <td>0.9375</td>\n",
       "      <td>1.0</td>\n",
       "      <td>1.0</td>\n",
       "      <td>1.0</td>\n",
       "      <td>1.0</td>\n",
       "      <td>0.909091</td>\n",
       "      <td>1.0</td>\n",
       "      <td>1.0</td>\n",
       "    </tr>\n",
       "    <tr>\n",
       "      <th>Adidas</th>\n",
       "      <td>0.996154</td>\n",
       "      <td>1.000000</td>\n",
       "      <td>0.000000</td>\n",
       "      <td>1.000000</td>\n",
       "      <td>1.0</td>\n",
       "      <td>1.0</td>\n",
       "      <td>1.0</td>\n",
       "      <td>1.000000</td>\n",
       "      <td>1.000000</td>\n",
       "      <td>1.000000</td>\n",
       "      <td>...</td>\n",
       "      <td>1.0</td>\n",
       "      <td>1.0</td>\n",
       "      <td>1.0000</td>\n",
       "      <td>1.0</td>\n",
       "      <td>1.0</td>\n",
       "      <td>1.0</td>\n",
       "      <td>1.0</td>\n",
       "      <td>1.000000</td>\n",
       "      <td>1.0</td>\n",
       "      <td>1.0</td>\n",
       "    </tr>\n",
       "  </tbody>\n",
       "</table>\n",
       "<p>3 rows × 198 columns</p>\n",
       "</div>"
      ],
      "text/plain": [
       "brand                 6pm.com  Abercrombie & Fitch    Adidas  Aeropostale  \\\n",
       "brand                                                                       \n",
       "6pm.com              0.000000             0.996255  0.996154     0.996241   \n",
       "Abercrombie & Fitch  0.996255             0.000000  1.000000     0.928571   \n",
       "Adidas               0.996154             1.000000  0.000000     1.000000   \n",
       "\n",
       "brand                Aldo  All Saints  Amazon.com  American Apparel  \\\n",
       "brand                                                                 \n",
       "6pm.com               1.0         1.0         1.0          0.996183   \n",
       "Abercrombie & Fitch   1.0         1.0         1.0          1.000000   \n",
       "Adidas                1.0         1.0         1.0          1.000000   \n",
       "\n",
       "brand                American Eagle  Ann Taylor       ...        Walgreens  \\\n",
       "brand                                                 ...                    \n",
       "6pm.com                    0.996441    0.992481       ...              1.0   \n",
       "Abercrombie & Fitch        0.888889    1.000000       ...              1.0   \n",
       "Adidas                     1.000000    1.000000       ...              1.0   \n",
       "\n",
       "brand                Walk-Over  Wet Seal  Windsor  YSL  Yves Saint Laurent  \\\n",
       "brand                                                                        \n",
       "6pm.com                    1.0    1.0000      1.0  1.0                 1.0   \n",
       "Abercrombie & Fitch        1.0    0.9375      1.0  1.0                 1.0   \n",
       "Adidas                     1.0    1.0000      1.0  1.0                 1.0   \n",
       "\n",
       "brand                ZOO      Zara  Zipcar  vineyard vines  \n",
       "brand                                                       \n",
       "6pm.com              1.0  1.000000     1.0             1.0  \n",
       "Abercrombie & Fitch  1.0  0.909091     1.0             1.0  \n",
       "Adidas               1.0  1.000000     1.0             1.0  \n",
       "\n",
       "[3 rows x 198 columns]"
      ]
     },
     "execution_count": 6,
     "metadata": {},
     "output_type": "execute_result"
    }
   ],
   "source": [
    "brand_distance = jaccard_distance(M)\n",
    "brand_distance.head(3)"
   ]
  },
  {
   "cell_type": "markdown",
   "metadata": {},
   "source": [
    "Note that this is a _distance_ matrix, so the lower, the closer, the more similar.  Hence we have zeros on the diagonal.\n",
    "\n",
    "Let's show the top most similar brands for some known brands."
   ]
  },
  {
   "cell_type": "code",
   "execution_count": 72,
   "metadata": {
    "collapsed": false
   },
   "outputs": [
    {
     "name": "stdout",
     "output_type": "stream",
     "text": [
      "Home Depot          : Home Depot, Target, Kohl's, Old Navy, Crate & Barrel\n",
      "Armani              : Armani, Ecco, Hugo Boss, Giorgio Armani, Horchow\n",
      "UNIQLO              : UNIQLO, American Apparel, 6pm.com, Shoebuy, Columbia\n"
     ]
    }
   ],
   "source": [
    "top = 5\n",
    "for brand in ['Home Depot', 'Armani', 'UNIQLO']:\n",
    "    print \"%-20s:\" % brand, \n",
    "    print \", \".join(brand_distance[brand].sort_values(inplace=False).index[:top]) "
   ]
  },
  {
   "cell_type": "markdown",
   "metadata": {},
   "source": [
    "And let's pick some other random brands."
   ]
  },
  {
   "cell_type": "code",
   "execution_count": 114,
   "metadata": {
    "collapsed": false,
    "scrolled": true
   },
   "outputs": [
    {
     "name": "stdout",
     "output_type": "stream",
     "text": [
      "Top 5 similar brands for some random 5 brands\n",
      "Calvin Klein        : Calvin Klein, Guess, DKNY, Kenneth Cole, Steve Madden\n",
      "Lululemon           : Lululemon, Lord & Taylor, Saucony, Boden, UGG Australia\n",
      "L'occitane          : L'occitane, Discovery Channel Store, Prada, Abercrombie & Fitch, American Eagle\n",
      "O'Neill             : Rip Curl, Billabong, Roxy, O'Neill, Sephora\n",
      "Vera Bradley        : Vera Bradley, Shashi, Michael Kors, Coach, Victoria's Secret\n"
     ]
    }
   ],
   "source": [
    "n_show = 5  # show a few brands\n",
    "print \"Top %d similar brands for some random %d brands\" % (top, n_show)\n",
    "for brand in np.random.choice(brands, n_show, replace=False):\n",
    "    print \"%-20s:\" % brand, \n",
    "    print \", \".join(brand_distance[brand].sort_values(inplace=False).index[:top])"
   ]
  },
  {
   "cell_type": "markdown",
   "metadata": {},
   "source": [
    "### Step 3: Making recommendations for users\n",
    "\n",
    "   - Per user, find out the brands he/she is already following\n",
    "   - For each brand followed by this user, compute its distance to all other brands\n",
    "   - For each unfollowed brand, average its distances to all the already followed brands\n",
    "   - Identify the brands with the shortest average distance\n",
    " \n",
    "Make sure you exclude the brands the user is already following from the recommendations!"
   ]
  },
  {
   "cell_type": "code",
   "execution_count": 110,
   "metadata": {
    "collapsed": false
   },
   "outputs": [],
   "source": [
    "def recommend_brands_for_user(user, M, top=5):\n",
    "    user_brands = M.loc[user][M.loc[user] > 0].index  \n",
    "    brand_distance = jaccard_distance(M)        \n",
    "    recs = brand_distance[user_brands].mean(axis=1).sort_values(ascending=True, inplace=False).index\n",
    "    recs = [rec for rec in recs if rec not in user_brands]\n",
    "    return recs[:top]"
   ]
  },
  {
   "cell_type": "code",
   "execution_count": 116,
   "metadata": {
    "collapsed": false
   },
   "outputs": [
    {
     "name": "stdout",
     "output_type": "stream",
     "text": [
      "User 86082\n",
      "Already following: Cuisinart, Nine West, Shoebuy\n",
      "Recommended: KitchenAid, Crate & Barrel, DKNY, Steve Madden, Levi's\n",
      "\n",
      "User 87965\n",
      "Already following: Crate & Barrel, Home Depot, Nordstrom\n",
      "Recommended: Target, KitchenAid, Old Navy, Gap, Container Store\n",
      "\n",
      "User 80229\n",
      "Already following: Banana Republic, Guess, Home Depot, KitchenAid, Nordstrom, Shoebuy\n",
      "Recommended: Cuisinart, Crate & Barrel, Gap, Express, Target\n",
      "\n",
      "User 81277\n",
      "Already following: Crate & Barrel, Home Depot, Kohl's, Target\n",
      "Recommended: Old Navy, KitchenAid, Gap, Nordstrom, Container Store\n",
      "\n"
     ]
    }
   ],
   "source": [
    "n_users = 4\n",
    "# for user in [90217, 86156, 89116, 89112]:\n",
    "for user in np.random.choice(M.index, n_users, replace=False):\n",
    "    print \"User %s\" % user\n",
    "    print \"Already following:\", \", \".join(brands[M.loc[user] > 0])\n",
    "    print \"Recommended:\", \", \".join(recommend_brands_for_user(user, M))\n",
    "    print"
   ]
  },
  {
   "cell_type": "markdown",
   "metadata": {
    "collapsed": true
   },
   "source": [
    "<hr>\n",
    "\n",
    "## Model-based collaborative filtering\n",
    "\n",
    "In _model-based collaborative filtering_ we will estimate parameters for both items and users simultaneously.  This apporach is considered to be the state of the art and gets generally the highest prediction accuracy.\n",
    "\n",
    "The most popular model-based CF techniques use [_Matrix decomposition_](https://en.wikipedia.org/wiki/matrix_decomposition) techniques to find deeper structure in the ratings data. "
   ]
  },
  {
   "cell_type": "markdown",
   "metadata": {},
   "source": [
    "### Step 1: Decompose the ratings matrix via SVD to reduce the dimensionality and extract latent variables"
   ]
  },
  {
   "cell_type": "code",
   "execution_count": 13,
   "metadata": {
    "collapsed": true
   },
   "outputs": [],
   "source": [
    "from sklearn.decomposition import TruncatedSVD\n",
    "from sklearn.pipeline import make_pipeline\n",
    "from sklearn.preprocessing import Normalizer"
   ]
  },
  {
   "cell_type": "code",
   "execution_count": 117,
   "metadata": {
    "collapsed": false
   },
   "outputs": [
    {
     "name": "stdout",
     "output_type": "stream",
     "text": [
      "The original matrix has 3759 rows(users) and 198 columns(brands).\n"
     ]
    }
   ],
   "source": [
    "print \"The original matrix has {} rows(users) and {} columns(brands).\".format(M.shape[0],M.shape[1])"
   ]
  },
  {
   "cell_type": "code",
   "execution_count": 34,
   "metadata": {
    "collapsed": true
   },
   "outputs": [],
   "source": [
    "n_components = 30 \n",
    "svd = TruncatedSVD(n_components)\n",
    "X_red = svd.fit_transform(M)\n",
    "explained_variance = svd.explained_variance_ratio_.sum()"
   ]
  },
  {
   "cell_type": "code",
   "execution_count": 118,
   "metadata": {
    "collapsed": false
   },
   "outputs": [
    {
     "name": "stdout",
     "output_type": "stream",
     "text": [
      "The reduced matrix has 3759 rows and 30 columns.\n"
     ]
    }
   ],
   "source": [
    "print \"The reduced matrix has {} rows and {} columns.\".format(X_red.shape[0],X_red.shape[1])"
   ]
  },
  {
   "cell_type": "code",
   "execution_count": 94,
   "metadata": {
    "collapsed": false
   },
   "outputs": [
    {
     "name": "stdout",
     "output_type": "stream",
     "text": [
      "SVD with 30 components explained 83% of variance in preference\n"
     ]
    },
    {
     "data": {
      "image/png": "[encoded data removed]",
      "text/plain": [
       "<matplotlib.figure.Figure at 0x1219d5f50>"
      ]
     },
     "metadata": {},
     "output_type": "display_data"
    }
   ],
   "source": [
    "print \"SVD with {} components explained {:.0f}% of variance in preference\".format(n_components,explained_variance * 100)\n",
    "plt.plot(svd.explained_variance_ratio_.cumsum())\n",
    "f = plt.ylim(0,1)"
   ]
  },
  {
   "cell_type": "code",
   "execution_count": 101,
   "metadata": {
    "collapsed": false,
    "scrolled": true
   },
   "outputs": [
    {
     "data": {
      "image/png": "[encoded data removed]",
      "text/plain": [
       "<matplotlib.figure.Figure at 0x11f9dbf10>"
      ]
     },
     "metadata": {},
     "output_type": "display_data"
    }
   ],
   "source": [
    "top_rec = 10\n",
    "n_rows, n_cols = 2, 2\n",
    "top_components = n_rows * n_cols\n",
    "f, axes = plt.subplots(n_rows, n_cols, figsize=(20, n_rows * 3))\n",
    "for no, component in enumerate(svd.components_[:top_components]):\n",
    "    ax = axes[no / n_cols][no % n_cols]\n",
    "    s = pd.Series(svd.components_[no], index=brands).sort_values(inplace=False)[-top_rec:]\n",
    "    s.plot(kind='barh', ax=ax, title=\"Component %d\\nexplained variance %4.1f\" % \n",
    "           (no, 100 * svd.explained_variance_ratio_[no]))\n",
    "f = plt.tight_layout()"
   ]
  },
  {
   "cell_type": "markdown",
   "metadata": {},
   "source": [
    "### Step 2: Express both users and items in terms of the latent variables\n",
    "   - values in the item vectors represent the degree to which an item exhibits a given feature\n",
    "   - values in the user vectors represent user preferences for a given feature."
   ]
  },
  {
   "cell_type": "code",
   "execution_count": 177,
   "metadata": {
    "collapsed": false
   },
   "outputs": [
    {
     "data": {
      "text/html": [
       "<div>\n",
       "<table border=\"1\" class=\"dataframe\">\n",
       "  <thead>\n",
       "    <tr style=\"text-align: right;\">\n",
       "      <th>brand</th>\n",
       "      <th>6pm.com</th>\n",
       "      <th>Abercrombie &amp; Fitch</th>\n",
       "      <th>Adidas</th>\n",
       "      <th>Aeropostale</th>\n",
       "      <th>Aldo</th>\n",
       "      <th>All Saints</th>\n",
       "      <th>Amazon.com</th>\n",
       "      <th>American Apparel</th>\n",
       "      <th>American Eagle</th>\n",
       "      <th>Ann Taylor</th>\n",
       "      <th>...</th>\n",
       "      <th>Walgreens</th>\n",
       "      <th>Walk-Over</th>\n",
       "      <th>Wet Seal</th>\n",
       "      <th>Windsor</th>\n",
       "      <th>YSL</th>\n",
       "      <th>Yves Saint Laurent</th>\n",
       "      <th>ZOO</th>\n",
       "      <th>Zara</th>\n",
       "      <th>Zipcar</th>\n",
       "      <th>vineyard vines</th>\n",
       "    </tr>\n",
       "  </thead>\n",
       "  <tbody>\n",
       "    <tr>\n",
       "      <th>Latent Var 1</th>\n",
       "      <td>0.076401</td>\n",
       "      <td>0.001914</td>\n",
       "      <td>0.000687</td>\n",
       "      <td>0.001407</td>\n",
       "      <td>0.000280</td>\n",
       "      <td>0.000007</td>\n",
       "      <td>0.000361</td>\n",
       "      <td>0.000606</td>\n",
       "      <td>0.003858</td>\n",
       "      <td>0.001593</td>\n",
       "      <td>...</td>\n",
       "      <td>0.000242</td>\n",
       "      <td>0.000131</td>\n",
       "      <td>0.001221</td>\n",
       "      <td>0.000112</td>\n",
       "      <td>0.000331</td>\n",
       "      <td>0.000146</td>\n",
       "      <td>9.634602e-25</td>\n",
       "      <td>0.000712</td>\n",
       "      <td>0.000025</td>\n",
       "      <td>0.000211</td>\n",
       "    </tr>\n",
       "    <tr>\n",
       "      <th>Latent Var 2</th>\n",
       "      <td>0.074111</td>\n",
       "      <td>-0.001032</td>\n",
       "      <td>0.001300</td>\n",
       "      <td>0.000017</td>\n",
       "      <td>0.000044</td>\n",
       "      <td>0.000055</td>\n",
       "      <td>-0.000377</td>\n",
       "      <td>-0.000450</td>\n",
       "      <td>-0.008513</td>\n",
       "      <td>0.000762</td>\n",
       "      <td>...</td>\n",
       "      <td>-0.001653</td>\n",
       "      <td>-0.000346</td>\n",
       "      <td>-0.003308</td>\n",
       "      <td>0.000367</td>\n",
       "      <td>0.000521</td>\n",
       "      <td>-0.000106</td>\n",
       "      <td>-2.461731e-20</td>\n",
       "      <td>0.000159</td>\n",
       "      <td>0.000102</td>\n",
       "      <td>-0.000411</td>\n",
       "    </tr>\n",
       "    <tr>\n",
       "      <th>Latent Var 3</th>\n",
       "      <td>0.005875</td>\n",
       "      <td>0.002849</td>\n",
       "      <td>-0.000485</td>\n",
       "      <td>0.002224</td>\n",
       "      <td>-0.000366</td>\n",
       "      <td>-0.000105</td>\n",
       "      <td>-0.000447</td>\n",
       "      <td>-0.000318</td>\n",
       "      <td>0.007449</td>\n",
       "      <td>0.003359</td>\n",
       "      <td>...</td>\n",
       "      <td>0.000461</td>\n",
       "      <td>0.000593</td>\n",
       "      <td>0.002150</td>\n",
       "      <td>0.000245</td>\n",
       "      <td>-0.001814</td>\n",
       "      <td>0.000567</td>\n",
       "      <td>-1.151990e-18</td>\n",
       "      <td>0.000940</td>\n",
       "      <td>0.000198</td>\n",
       "      <td>0.000945</td>\n",
       "    </tr>\n",
       "    <tr>\n",
       "      <th>Latent Var 4</th>\n",
       "      <td>0.046495</td>\n",
       "      <td>0.001077</td>\n",
       "      <td>0.001063</td>\n",
       "      <td>0.003554</td>\n",
       "      <td>-0.000625</td>\n",
       "      <td>-0.000024</td>\n",
       "      <td>-0.000413</td>\n",
       "      <td>-0.002068</td>\n",
       "      <td>-0.001233</td>\n",
       "      <td>-0.004277</td>\n",
       "      <td>...</td>\n",
       "      <td>0.000437</td>\n",
       "      <td>-0.000247</td>\n",
       "      <td>-0.000556</td>\n",
       "      <td>0.000162</td>\n",
       "      <td>0.000096</td>\n",
       "      <td>-0.000804</td>\n",
       "      <td>-1.607494e-18</td>\n",
       "      <td>-0.002837</td>\n",
       "      <td>-0.000416</td>\n",
       "      <td>-0.000795</td>\n",
       "    </tr>\n",
       "    <tr>\n",
       "      <th>Latent Var 5</th>\n",
       "      <td>0.046978</td>\n",
       "      <td>-0.001953</td>\n",
       "      <td>0.000495</td>\n",
       "      <td>0.000172</td>\n",
       "      <td>0.000057</td>\n",
       "      <td>0.000021</td>\n",
       "      <td>-0.000394</td>\n",
       "      <td>-0.000406</td>\n",
       "      <td>-0.003307</td>\n",
       "      <td>-0.000098</td>\n",
       "      <td>...</td>\n",
       "      <td>0.000465</td>\n",
       "      <td>0.001546</td>\n",
       "      <td>0.002088</td>\n",
       "      <td>0.000534</td>\n",
       "      <td>0.000171</td>\n",
       "      <td>0.000218</td>\n",
       "      <td>5.544471e-18</td>\n",
       "      <td>0.001071</td>\n",
       "      <td>-0.000809</td>\n",
       "      <td>-0.000343</td>\n",
       "    </tr>\n",
       "  </tbody>\n",
       "</table>\n",
       "<p>5 rows × 198 columns</p>\n",
       "</div>"
      ],
      "text/plain": [
       "brand          6pm.com  Abercrombie & Fitch    Adidas  Aeropostale      Aldo  \\\n",
       "Latent Var 1  0.076401             0.001914  0.000687     0.001407  0.000280   \n",
       "Latent Var 2  0.074111            -0.001032  0.001300     0.000017  0.000044   \n",
       "Latent Var 3  0.005875             0.002849 -0.000485     0.002224 -0.000366   \n",
       "Latent Var 4  0.046495             0.001077  0.001063     0.003554 -0.000625   \n",
       "Latent Var 5  0.046978            -0.001953  0.000495     0.000172  0.000057   \n",
       "\n",
       "brand         All Saints  Amazon.com  American Apparel  American Eagle  \\\n",
       "Latent Var 1    0.000007    0.000361          0.000606        0.003858   \n",
       "Latent Var 2    0.000055   -0.000377         -0.000450       -0.008513   \n",
       "Latent Var 3   -0.000105   -0.000447         -0.000318        0.007449   \n",
       "Latent Var 4   -0.000024   -0.000413         -0.002068       -0.001233   \n",
       "Latent Var 5    0.000021   -0.000394         -0.000406       -0.003307   \n",
       "\n",
       "brand         Ann Taylor       ...        Walgreens  Walk-Over  Wet Seal  \\\n",
       "Latent Var 1    0.001593       ...         0.000242   0.000131  0.001221   \n",
       "Latent Var 2    0.000762       ...        -0.001653  -0.000346 -0.003308   \n",
       "Latent Var 3    0.003359       ...         0.000461   0.000593  0.002150   \n",
       "Latent Var 4   -0.004277       ...         0.000437  -0.000247 -0.000556   \n",
       "Latent Var 5   -0.000098       ...         0.000465   0.001546  0.002088   \n",
       "\n",
       "brand          Windsor       YSL  Yves Saint Laurent           ZOO      Zara  \\\n",
       "Latent Var 1  0.000112  0.000331            0.000146  9.634602e-25  0.000712   \n",
       "Latent Var 2  0.000367  0.000521           -0.000106 -2.461731e-20  0.000159   \n",
       "Latent Var 3  0.000245 -0.001814            0.000567 -1.151990e-18  0.000940   \n",
       "Latent Var 4  0.000162  0.000096           -0.000804 -1.607494e-18 -0.002837   \n",
       "Latent Var 5  0.000534  0.000171            0.000218  5.544471e-18  0.001071   \n",
       "\n",
       "brand           Zipcar  vineyard vines  \n",
       "Latent Var 1  0.000025        0.000211  \n",
       "Latent Var 2  0.000102       -0.000411  \n",
       "Latent Var 3  0.000198        0.000945  \n",
       "Latent Var 4 -0.000416       -0.000795  \n",
       "Latent Var 5 -0.000809       -0.000343  \n",
       "\n",
       "[5 rows x 198 columns]"
      ]
     },
     "execution_count": 177,
     "metadata": {},
     "output_type": "execute_result"
    }
   ],
   "source": [
    "latent_variable_names = [\"Latent Var {0}\".format(x) for x in range(1,31)]\n",
    "items_expressed_in_latent_var = pd.DataFrame(svd.components_,index = latent_variable_names)\n",
    "items_expressed_in_latent_var.columns = brands\n",
    "items_expressed_in_latent_var.head()"
   ]
  },
  {
   "cell_type": "code",
   "execution_count": 178,
   "metadata": {
    "collapsed": false
   },
   "outputs": [
    {
     "data": {
      "text/html": [
       "<div>\n",
       "<table border=\"1\" class=\"dataframe\">\n",
       "  <thead>\n",
       "    <tr style=\"text-align: right;\">\n",
       "      <th></th>\n",
       "      <th>Latent Var 1</th>\n",
       "      <th>Latent Var 2</th>\n",
       "      <th>Latent Var 3</th>\n",
       "      <th>Latent Var 4</th>\n",
       "      <th>Latent Var 5</th>\n",
       "      <th>Latent Var 6</th>\n",
       "      <th>Latent Var 7</th>\n",
       "      <th>Latent Var 8</th>\n",
       "      <th>Latent Var 9</th>\n",
       "      <th>Latent Var 10</th>\n",
       "      <th>...</th>\n",
       "      <th>Latent Var 21</th>\n",
       "      <th>Latent Var 22</th>\n",
       "      <th>Latent Var 23</th>\n",
       "      <th>Latent Var 24</th>\n",
       "      <th>Latent Var 25</th>\n",
       "      <th>Latent Var 26</th>\n",
       "      <th>Latent Var 27</th>\n",
       "      <th>Latent Var 28</th>\n",
       "      <th>Latent Var 29</th>\n",
       "      <th>Latent Var 30</th>\n",
       "    </tr>\n",
       "  </thead>\n",
       "  <tbody>\n",
       "    <tr>\n",
       "      <th>User 80002</th>\n",
       "      <td>0.622816</td>\n",
       "      <td>-0.738584</td>\n",
       "      <td>-0.138104</td>\n",
       "      <td>-0.281510</td>\n",
       "      <td>0.357097</td>\n",
       "      <td>-0.381062</td>\n",
       "      <td>-0.167205</td>\n",
       "      <td>-0.764848</td>\n",
       "      <td>0.073572</td>\n",
       "      <td>0.064213</td>\n",
       "      <td>...</td>\n",
       "      <td>0.042334</td>\n",
       "      <td>0.033256</td>\n",
       "      <td>-0.011962</td>\n",
       "      <td>-0.010010</td>\n",
       "      <td>0.001783</td>\n",
       "      <td>0.003766</td>\n",
       "      <td>-0.048057</td>\n",
       "      <td>-0.028143</td>\n",
       "      <td>0.011873</td>\n",
       "      <td>0.019212</td>\n",
       "    </tr>\n",
       "    <tr>\n",
       "      <th>User 80010</th>\n",
       "      <td>1.701103</td>\n",
       "      <td>-0.171136</td>\n",
       "      <td>0.261077</td>\n",
       "      <td>0.814666</td>\n",
       "      <td>0.124756</td>\n",
       "      <td>-0.069102</td>\n",
       "      <td>0.281406</td>\n",
       "      <td>1.162557</td>\n",
       "      <td>0.509090</td>\n",
       "      <td>0.427999</td>\n",
       "      <td>...</td>\n",
       "      <td>0.147008</td>\n",
       "      <td>-0.026929</td>\n",
       "      <td>0.271376</td>\n",
       "      <td>0.216987</td>\n",
       "      <td>-0.316274</td>\n",
       "      <td>-0.024085</td>\n",
       "      <td>0.048589</td>\n",
       "      <td>-0.258620</td>\n",
       "      <td>-0.197707</td>\n",
       "      <td>-0.546965</td>\n",
       "    </tr>\n",
       "    <tr>\n",
       "      <th>User 80011</th>\n",
       "      <td>2.284510</td>\n",
       "      <td>0.974782</td>\n",
       "      <td>0.769255</td>\n",
       "      <td>-1.061327</td>\n",
       "      <td>0.288730</td>\n",
       "      <td>-0.335332</td>\n",
       "      <td>0.062340</td>\n",
       "      <td>-0.179368</td>\n",
       "      <td>-0.202895</td>\n",
       "      <td>-0.120530</td>\n",
       "      <td>...</td>\n",
       "      <td>-0.234338</td>\n",
       "      <td>-0.066211</td>\n",
       "      <td>0.315542</td>\n",
       "      <td>-0.071771</td>\n",
       "      <td>-0.317744</td>\n",
       "      <td>-0.721012</td>\n",
       "      <td>0.263187</td>\n",
       "      <td>-0.074848</td>\n",
       "      <td>0.290108</td>\n",
       "      <td>0.012138</td>\n",
       "    </tr>\n",
       "    <tr>\n",
       "      <th>User 80015</th>\n",
       "      <td>1.054637</td>\n",
       "      <td>-0.620847</td>\n",
       "      <td>0.172821</td>\n",
       "      <td>-0.776741</td>\n",
       "      <td>-0.568756</td>\n",
       "      <td>-0.370249</td>\n",
       "      <td>-0.184886</td>\n",
       "      <td>-0.887754</td>\n",
       "      <td>-0.155428</td>\n",
       "      <td>0.226499</td>\n",
       "      <td>...</td>\n",
       "      <td>-0.027245</td>\n",
       "      <td>-0.021743</td>\n",
       "      <td>-0.117763</td>\n",
       "      <td>0.026514</td>\n",
       "      <td>0.020681</td>\n",
       "      <td>0.011719</td>\n",
       "      <td>-0.002982</td>\n",
       "      <td>-0.156926</td>\n",
       "      <td>0.007230</td>\n",
       "      <td>0.010761</td>\n",
       "    </tr>\n",
       "    <tr>\n",
       "      <th>User 80020</th>\n",
       "      <td>0.082750</td>\n",
       "      <td>0.092635</td>\n",
       "      <td>0.056636</td>\n",
       "      <td>0.130796</td>\n",
       "      <td>-0.021025</td>\n",
       "      <td>0.042401</td>\n",
       "      <td>-0.015247</td>\n",
       "      <td>-0.071660</td>\n",
       "      <td>0.009959</td>\n",
       "      <td>0.057885</td>\n",
       "      <td>...</td>\n",
       "      <td>-0.020558</td>\n",
       "      <td>-0.029512</td>\n",
       "      <td>-0.151004</td>\n",
       "      <td>0.157029</td>\n",
       "      <td>-0.144066</td>\n",
       "      <td>0.154603</td>\n",
       "      <td>-0.003345</td>\n",
       "      <td>-0.127416</td>\n",
       "      <td>0.117611</td>\n",
       "      <td>0.172945</td>\n",
       "    </tr>\n",
       "  </tbody>\n",
       "</table>\n",
       "<p>5 rows × 30 columns</p>\n",
       "</div>"
      ],
      "text/plain": [
       "            Latent Var 1  Latent Var 2  Latent Var 3  Latent Var 4  \\\n",
       "User 80002      0.622816     -0.738584     -0.138104     -0.281510   \n",
       "User 80010      1.701103     -0.171136      0.261077      0.814666   \n",
       "User 80011      2.284510      0.974782      0.769255     -1.061327   \n",
       "User 80015      1.054637     -0.620847      0.172821     -0.776741   \n",
       "User 80020      0.082750      0.092635      0.056636      0.130796   \n",
       "\n",
       "            Latent Var 5  Latent Var 6  Latent Var 7  Latent Var 8  \\\n",
       "User 80002      0.357097     -0.381062     -0.167205     -0.764848   \n",
       "User 80010      0.124756     -0.069102      0.281406      1.162557   \n",
       "User 80011      0.288730     -0.335332      0.062340     -0.179368   \n",
       "User 80015     -0.568756     -0.370249     -0.184886     -0.887754   \n",
       "User 80020     -0.021025      0.042401     -0.015247     -0.071660   \n",
       "\n",
       "            Latent Var 9  Latent Var 10      ...        Latent Var 21  \\\n",
       "User 80002      0.073572       0.064213      ...             0.042334   \n",
       "User 80010      0.509090       0.427999      ...             0.147008   \n",
       "User 80011     -0.202895      -0.120530      ...            -0.234338   \n",
       "User 80015     -0.155428       0.226499      ...            -0.027245   \n",
       "User 80020      0.009959       0.057885      ...            -0.020558   \n",
       "\n",
       "            Latent Var 22  Latent Var 23  Latent Var 24  Latent Var 25  \\\n",
       "User 80002       0.033256      -0.011962      -0.010010       0.001783   \n",
       "User 80010      -0.026929       0.271376       0.216987      -0.316274   \n",
       "User 80011      -0.066211       0.315542      -0.071771      -0.317744   \n",
       "User 80015      -0.021743      -0.117763       0.026514       0.020681   \n",
       "User 80020      -0.029512      -0.151004       0.157029      -0.144066   \n",
       "\n",
       "            Latent Var 26  Latent Var 27  Latent Var 28  Latent Var 29  \\\n",
       "User 80002       0.003766      -0.048057      -0.028143       0.011873   \n",
       "User 80010      -0.024085       0.048589      -0.258620      -0.197707   \n",
       "User 80011      -0.721012       0.263187      -0.074848       0.290108   \n",
       "User 80015       0.011719      -0.002982      -0.156926       0.007230   \n",
       "User 80020       0.154603      -0.003345      -0.127416       0.117611   \n",
       "\n",
       "            Latent Var 30  \n",
       "User 80002       0.019212  \n",
       "User 80010      -0.546965  \n",
       "User 80011       0.012138  \n",
       "User 80015       0.010761  \n",
       "User 80020       0.172945  \n",
       "\n",
       "[5 rows x 30 columns]"
      ]
     },
     "execution_count": 178,
     "metadata": {},
     "output_type": "execute_result"
    }
   ],
   "source": [
    "user_ids = [\"User {0}\".format(x) for x in M.index.values]\n",
    "users_expressed_in_latent_var = pd.DataFrame(X_red,index = user_ids)\n",
    "users_expressed_in_latent_var.columns = latent_variable_names\n",
    "users_expressed_in_latent_var.head()"
   ]
  },
  {
   "cell_type": "markdown",
   "metadata": {},
   "source": [
    "### Step 3: Reconstruct the user-item matrix by taking dot products of user & item vectors in the latent feature space"
   ]
  },
  {
   "cell_type": "code",
   "execution_count": 212,
   "metadata": {
    "collapsed": false
   },
   "outputs": [
    {
     "data": {
      "text/html": [
       "<div>\n",
       "<table border=\"1\" class=\"dataframe\">\n",
       "  <thead>\n",
       "    <tr style=\"text-align: right;\">\n",
       "      <th></th>\n",
       "      <th>id</th>\n",
       "      <th>brand</th>\n",
       "    </tr>\n",
       "  </thead>\n",
       "  <tbody>\n",
       "    <tr>\n",
       "      <th>21174</th>\n",
       "      <td>90776</td>\n",
       "      <td>Nicole Miller</td>\n",
       "    </tr>\n",
       "    <tr>\n",
       "      <th>21175</th>\n",
       "      <td>90776</td>\n",
       "      <td>Last Call by Neiman Marcus</td>\n",
       "    </tr>\n",
       "    <tr>\n",
       "      <th>21176</th>\n",
       "      <td>90776</td>\n",
       "      <td>Nordstrom</td>\n",
       "    </tr>\n",
       "  </tbody>\n",
       "</table>\n",
       "</div>"
      ],
      "text/plain": [
       "          id                       brand\n",
       "21174  90776               Nicole Miller\n",
       "21175  90776  Last Call by Neiman Marcus\n",
       "21176  90776                   Nordstrom"
      ]
     },
     "execution_count": 212,
     "metadata": {},
     "output_type": "execute_result"
    }
   ],
   "source": [
    "user_id = np.random.choice(user_ids)\n",
    "data[data.id==int(user_id.split()[1])]"
   ]
  },
  {
   "cell_type": "code",
   "execution_count": 213,
   "metadata": {
    "collapsed": false
   },
   "outputs": [
    {
     "data": {
      "image/png": "[encoded data removed]",
      "text/plain": [
       "<matplotlib.figure.Figure at 0x121a09390>"
      ]
     },
     "metadata": {},
     "output_type": "display_data"
    }
   ],
   "source": [
    "recs = pd.Series(users_expressed_in_latent_var.ix[user_id])\n",
    "f = recs.sort_values(inplace=False)[-10:].plot(kind='barh', title='Top recommended categories for User %s' % user_id)"
   ]
  },
  {
   "cell_type": "markdown",
   "metadata": {},
   "source": [
    "#### Find out the brands demonstrating the highest scores on the latent components most valued by the given user"
   ]
  },
  {
   "cell_type": "code",
   "execution_count": 214,
   "metadata": {
    "collapsed": false
   },
   "outputs": [
    {
     "name": "stdout",
     "output_type": "stream",
     "text": [
      "Brands from top recommended category for User 90776: French Connection, Nicole Miller, Kate Spade, Betsey Johnson, Last Call by Neiman Marcus, Kohl's, Steve Madden, BCBGMAXAZRIA, Nordstrom, Target\n"
     ]
    }
   ],
   "source": [
    "brands_from_top_category = pd.Series(items_expressed_in_latent_var.ix[recs.argmax()])\n",
    "print \"Brands from top recommended category for %s:\" % user_id,\n",
    "print ', '.join(brands_from_top_category.sort_values(inplace=False)[-top_rec:].index)"
   ]
  },
  {
   "cell_type": "markdown",
   "metadata": {},
   "source": [
    "#### Take dot product to get individual brands recommended for user.  Note that it is a different set from the previous one."
   ]
  },
  {
   "cell_type": "code",
   "execution_count": 215,
   "metadata": {
    "collapsed": false
   },
   "outputs": [
    {
     "name": "stdout",
     "output_type": "stream",
     "text": [
      "Brands recommended for User User 90776: Nicole Miller, French Connection, Kate Spade, BCBGMAXAZRIA, Elie Tahari, Hanky Panky, Shoebuy, 6pm.com, Last Call by Neiman Marcus, Nordstrom\n"
     ]
    }
   ],
   "source": [
    "brands_recs = users_expressed_in_latent_var.ix[user_id].dot(items_expressed_in_latent_var)\n",
    "brands_recs = pd.Series(brands_recs)\n",
    "print \"Brands recommended for User %s:\" % user_id,\n",
    "print ', '.join(brands_recs.sort_values(inplace=False)[-top_rec:].index)"
   ]
  },
  {
   "cell_type": "markdown",
   "metadata": {},
   "source": [
    "#### Compare the recommendations with the actual preference of the chosen user"
   ]
  },
  {
   "cell_type": "code",
   "execution_count": 217,
   "metadata": {
    "collapsed": false
   },
   "outputs": [
    {
     "data": {
      "text/plain": [
       "['Nicole Miller', 'Last Call by Neiman Marcus', 'Nordstrom']"
      ]
     },
     "execution_count": 217,
     "metadata": {},
     "output_type": "execute_result"
    }
   ],
   "source": [
    "data[data.id==int(user_id.split()[1])].brand.tolist()"
   ]
  }
 ],
 "metadata": {
  "kernelspec": {
   "display_name": "Python 2",
   "language": "python",
   "name": "python2"
  },
  "language_info": {
   "codemirror_mode": {
    "name": "ipython",
    "version": 2
   },
   "file_extension": ".py",
   "mimetype": "text/x-python",
   "name": "python",
   "nbconvert_exporter": "python",
   "pygments_lexer": "ipython2",
   "version": "2.7.13"
  }
 },
 "nbformat": 4,
 "nbformat_minor": 0
}
